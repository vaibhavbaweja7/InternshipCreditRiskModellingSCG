{
 "cells": [
  {
   "cell_type": "markdown",
   "id": "39449241",
   "metadata": {},
   "source": [
    "Importing the required Libraries"
   ]
  },
  {
   "cell_type": "code",
   "execution_count": 1,
   "id": "fec314f8",
   "metadata": {},
   "outputs": [],
   "source": [
    "import pandas as pd\n",
    "import numpy as np\n",
    "from sklearn.model_selection import train_test_split"
   ]
  },
  {
   "cell_type": "markdown",
   "id": "3b006cf2",
   "metadata": {},
   "source": [
    "Reading the data"
   ]
  },
  {
   "cell_type": "code",
   "execution_count": 2,
   "id": "7e5fcfc0",
   "metadata": {},
   "outputs": [],
   "source": [
    "data = pd.read_csv(r'C:\\Users\\vaibh\\Desktop\\credit_risk_dataset.csv')"
   ]
  },
  {
   "cell_type": "markdown",
   "id": "062ffc76",
   "metadata": {},
   "source": [
    "Checking for null values in the data!"
   ]
  },
  {
   "cell_type": "code",
   "execution_count": 3,
   "id": "cfb06bdc",
   "metadata": {},
   "outputs": [
    {
     "data": {
      "text/plain": [
       "person_age                       0\n",
       "person_income                    0\n",
       "person_home_ownership            0\n",
       "person_emp_length              895\n",
       "loan_intent                      0\n",
       "loan_grade                       0\n",
       "loan_amnt                        0\n",
       "loan_int_rate                 3116\n",
       "loan_status                      0\n",
       "loan_percent_income              0\n",
       "cb_person_default_on_file        0\n",
       "cb_person_cred_hist_length       0\n",
       "dtype: int64"
      ]
     },
     "execution_count": 3,
     "metadata": {},
     "output_type": "execute_result"
    }
   ],
   "source": [
    "data.isnull().sum()"
   ]
  },
  {
   "cell_type": "code",
   "execution_count": null,
   "id": "e5a222b8",
   "metadata": {},
   "outputs": [],
   "source": []
  },
  {
   "cell_type": "code",
   "execution_count": 4,
   "id": "837e81ce",
   "metadata": {},
   "outputs": [],
   "source": [
    "data['person_emp_length'].fillna(data['person_emp_length'].mean(), inplace=True)"
   ]
  },
  {
   "cell_type": "code",
   "execution_count": 6,
   "id": "15e25c54",
   "metadata": {},
   "outputs": [],
   "source": [
    "data['credit_history_length'] = 12 * data['cb_person_cred_hist_length']"
   ]
  },
  {
   "cell_type": "code",
   "execution_count": 7,
   "id": "65b06d54",
   "metadata": {},
   "outputs": [],
   "source": [
    "from sklearn.preprocessing import LabelEncoder\n",
    "\n",
    "le = LabelEncoder()\n",
    "data['person_home_ownership'] = le.fit_transform(data['person_home_ownership'])"
   ]
  },
  {
   "cell_type": "code",
   "execution_count": 8,
   "id": "61c4d300",
   "metadata": {},
   "outputs": [],
   "source": [
    "from sklearn.preprocessing import LabelEncoder\n",
    "\n",
    "# Create a label encoder object\n",
    "le = LabelEncoder()\n",
    "\n",
    "# Fit the encoder on the training data and transform the data\n",
    "data['loan_intent'] = le.fit_transform(data['loan_intent'])"
   ]
  },
  {
   "cell_type": "code",
   "execution_count": 9,
   "id": "bf74d02f",
   "metadata": {},
   "outputs": [],
   "source": [
    "from sklearn.preprocessing import LabelEncoder\n",
    "\n",
    "# Create a label encoder object\n",
    "le = LabelEncoder()\n",
    "\n",
    "# Fit the encoder on the training data and transform the data\n",
    "data['loan_grade'] = le.fit_transform(data['loan_grade'])"
   ]
  },
  {
   "cell_type": "code",
   "execution_count": 10,
   "id": "3f140389",
   "metadata": {},
   "outputs": [],
   "source": [
    "from sklearn.preprocessing import LabelEncoder\n",
    "\n",
    "# Create a label encoder object\n",
    "le = LabelEncoder()\n",
    "\n",
    "# Fit the encoder on the training data and transform the data\n",
    "data['cb_person_default_on_file'] = le.fit_transform(data['cb_person_default_on_file'])"
   ]
  },
  {
   "cell_type": "code",
   "execution_count": 11,
   "id": "d0336ed3",
   "metadata": {},
   "outputs": [],
   "source": [
    "features = ['person_age', 'person_income', 'person_home_ownership', 'person_emp_length',\n",
    "            'loan_intent', 'loan_grade', 'loan_amnt', 'loan_int_rate', 'loan_percent_income',\n",
    "            'cb_person_default_on_file', 'credit_history_length']"
   ]
  },
  {
   "cell_type": "code",
   "execution_count": 12,
   "id": "84032abc",
   "metadata": {},
   "outputs": [],
   "source": [
    "X = data[features]\n",
    "y = data['loan_status']"
   ]
  },
  {
   "cell_type": "code",
   "execution_count": 13,
   "id": "f3461e7e",
   "metadata": {},
   "outputs": [],
   "source": [
    "from sklearn.impute import SimpleImputer\n",
    "\n",
    "# Create an imputer object\n",
    "imputer = SimpleImputer(strategy='mean')\n",
    "\n",
    "# Fit the imputer on the training data and transform the data\n",
    "X = imputer.fit_transform(X)"
   ]
  },
  {
   "cell_type": "code",
   "execution_count": 14,
   "id": "486bfb74",
   "metadata": {},
   "outputs": [],
   "source": [
    "X_train, X_test, y_train, y_test = train_test_split(X, y, test_size=0.2, random_state=42)"
   ]
  },
  {
   "cell_type": "code",
   "execution_count": 17,
   "id": "91f2aa0b",
   "metadata": {},
   "outputs": [
    {
     "name": "stdout",
     "output_type": "stream",
     "text": [
      "0.927880926806813\n"
     ]
    },
    {
     "ename": "NameError",
     "evalue": "name 'average_accuracy' is not defined",
     "output_type": "error",
     "traceback": [
      "\u001b[1;31m---------------------------------------------------------------------------\u001b[0m",
      "\u001b[1;31mNameError\u001b[0m                                 Traceback (most recent call last)",
      "Cell \u001b[1;32mIn[17], line 25\u001b[0m\n\u001b[0;32m     23\u001b[0m     \u001b[38;5;66;03m# Calculate the accuracy of the predictions\u001b[39;00m\n\u001b[0;32m     24\u001b[0m     accuracy \u001b[38;5;241m=\u001b[39m accuracy_score(y_test, y_pred)\n\u001b[1;32m---> 25\u001b[0m     average_accuracy \u001b[38;5;241m+\u001b[39m\u001b[38;5;241m=\u001b[39m accuracy\n\u001b[0;32m     28\u001b[0m \u001b[38;5;66;03m# Calculate the average of the accuracy scores\u001b[39;00m\n\u001b[0;32m     29\u001b[0m average_accuracy \u001b[38;5;241m/\u001b[39m\u001b[38;5;241m=\u001b[39m \u001b[38;5;241m10\u001b[39m\n",
      "\u001b[1;31mNameError\u001b[0m: name 'average_accuracy' is not defined"
     ]
    }
   ],
   "source": [
    "from sklearn.ensemble import RandomForestClassifier\n",
    "from sklearn.metrics import accuracy_score\n",
    "\n",
    "rf = RandomForestClassifier(n_estimators=100, random_state=42)\n",
    "rf.fit(X_train, y_train)\n",
    "y_pred = rf.predict(X_test)\n",
    "\n",
    "# Calculate the accuracy of the predictions\n",
    "accuracy = accuracy_score(y_test, y_pred)\n",
    "\n",
    "print(accuracy)\n",
    "\n",
    "# Repeat the process multiple times\n",
    "for i in range(10):\n",
    "\n",
    "    # Fit the RandomForestClassifier model to the training set\n",
    "    rf = RandomForestClassifier(n_estimators=100, random_state=42)\n",
    "    rf.fit(X_train, y_train)\n",
    "\n",
    "    # Make predictions for the test set using the fitted model\n",
    "    y_pred = rf.predict(X_test)\n",
    "\n",
    "    # Calculate the accuracy of the predictions\n",
    "    accuracy = accuracy_score(y_test, y_pred)\n",
    "    average_accuracy += accuracy\n",
    "\n",
    "\n",
    "# Calculate the average of the accuracy scores\n",
    "average_accuracy /= 10\n",
    "\n",
    "print(average_accuracy)"
   ]
  },
  {
   "cell_type": "code",
   "execution_count": null,
   "id": "f785548d",
   "metadata": {},
   "outputs": [],
   "source": []
  }
 ],
 "metadata": {
  "kernelspec": {
   "display_name": "Python 3 (ipykernel)",
   "language": "python",
   "name": "python3"
  },
  "language_info": {
   "codemirror_mode": {
    "name": "ipython",
    "version": 3
   },
   "file_extension": ".py",
   "mimetype": "text/x-python",
   "name": "python",
   "nbconvert_exporter": "python",
   "pygments_lexer": "ipython3",
   "version": "3.10.9"
  }
 },
 "nbformat": 4,
 "nbformat_minor": 5
}
